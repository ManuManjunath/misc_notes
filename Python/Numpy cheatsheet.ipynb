{
 "cells": [
  {
   "cell_type": "code",
   "execution_count": 2,
   "metadata": {},
   "outputs": [],
   "source": [
    "import numpy as np"
   ]
  },
  {
   "cell_type": "code",
   "execution_count": 3,
   "metadata": {},
   "outputs": [
    {
     "name": "stdout",
     "output_type": "stream",
     "text": [
      "[ 2  9 20]\n"
     ]
    }
   ],
   "source": [
    "# You can do calculations on 2 arrays -\n",
    "a = np.array([1, 3, 5])\n",
    "b = np.array([2, 3, 4])\n",
    "print(a * b)"
   ]
  },
  {
   "cell_type": "code",
   "execution_count": 4,
   "metadata": {},
   "outputs": [
    {
     "name": "stdout",
     "output_type": "stream",
     "text": [
      "2\n",
      "(2, 3)\n"
     ]
    }
   ],
   "source": [
    "# 2D array\n",
    "c = np.array([[1, 2, 3], [3, 2, 1]])\n",
    "\n",
    "# To get the dimensions of an array\n",
    "print(c.ndim)\n",
    "\n",
    "# To see the shape - \n",
    "print(c.shape)"
   ]
  },
  {
   "cell_type": "code",
   "execution_count": 5,
   "metadata": {},
   "outputs": [
    {
     "name": "stdout",
     "output_type": "stream",
     "text": [
      "int64\n"
     ]
    }
   ],
   "source": [
    "# To see the data type of the array\n",
    "print(c.dtype)"
   ]
  },
  {
   "cell_type": "code",
   "execution_count": 6,
   "metadata": {},
   "outputs": [
    {
     "name": "stdout",
     "output_type": "stream",
     "text": [
      "int16\n",
      "2\n"
     ]
    }
   ],
   "source": [
    "# To specify dtype - \n",
    "d = np.array([1, 2], dtype='int16')\n",
    "print(d.dtype)\n",
    "print(d.itemsize)"
   ]
  },
  {
   "cell_type": "code",
   "execution_count": 7,
   "metadata": {},
   "outputs": [
    {
     "name": "stdout",
     "output_type": "stream",
     "text": [
      "9\n",
      "[1 2 3 4 5]\n",
      "[2 7]\n",
      "[1 3]\n",
      "[[ 1  2  3  4  5]\n",
      " [ 6  7  8 20 10]]\n",
      "[[ 1  2 30  4  5]\n",
      " [ 6  7 30 20 10]]\n",
      "[[10 10 10 10 10]\n",
      " [ 6  7 30 20 10]]\n"
     ]
    }
   ],
   "source": [
    "# To access/change specific elements/rows/columns\n",
    "\n",
    "e = np.array([[1, 2, 3, 4, 5], [6, 7, 8, 9, 10]])\n",
    "# Get a specific element\n",
    "print(e[1, 3]) # 2nd row, 4th column\n",
    "\n",
    "# Get a specific row\n",
    "print(e[0,:]) # 1st row\n",
    "\n",
    "# Get a specific column\n",
    "print(e[:, 1]) # 2nd Column\n",
    "\n",
    "# Get alternate numbers starting from 2nd element of 1st row\n",
    "print(e[0, 0:-1:2])\n",
    "\n",
    "# To change an element\n",
    "e[1, 3] = 20\n",
    "print(e)\n",
    "\n",
    "# To change a column\n",
    "e[:, 2] = [30, 30]\n",
    "print(e)\n",
    "\n",
    "# To change a row - make all of them 10\n",
    "e[0, :] = 10 \n",
    "# If its the same value across all columnns, \n",
    "# you can specify the value just once instead of a list\n",
    "print(e)"
   ]
  },
  {
   "cell_type": "code",
   "execution_count": 12,
   "metadata": {},
   "outputs": [
    {
     "name": "stdout",
     "output_type": "stream",
     "text": [
      "[[0. 0. 0. 0. 0.]\n",
      " [0. 0. 0. 0. 0.]\n",
      " [0. 0. 0. 0. 0.]\n",
      " [0. 0. 0. 0. 0.]\n",
      " [0. 0. 0. 0. 0.]]\n",
      "[1 1 1 1 1]\n",
      "[[4 4 4]\n",
      " [4 4 4]]\n",
      "[[5 5 5 5 5]\n",
      " [5 5 5 5 5]]\n",
      "[[0.07646891 0.8240437  0.52729575]\n",
      " [0.66538833 0.89854334 0.71457015]\n",
      " [0.4356604  0.46925031 0.68287286]]\n",
      "[6 0 6 7 5]\n",
      "[[3 9 1]\n",
      " [5 8 0]\n",
      " [3 9 5]]\n"
     ]
    }
   ],
   "source": [
    "# Arrays with just 0s or 1s\n",
    "zero = np.zeros((5, 5))\n",
    "print(zero)\n",
    "# Specify dtype='int32' to remove float\n",
    "one = np.ones(5, dtype='int32')\n",
    "print(one)\n",
    "\n",
    "# Any other number\n",
    "fours = np.full((2, 3), 4)\n",
    "print(fours)\n",
    "\n",
    "# Reuse the shape on an existing array, but with all 5s\n",
    "f = np.full_like(e, 5)\n",
    "print(f)"
   ]
  },
  {
   "cell_type": "code",
   "execution_count": 18,
   "metadata": {},
   "outputs": [
    {
     "name": "stdout",
     "output_type": "stream",
     "text": [
      "[[0.30696622 0.89361308 0.72154386]\n",
      " [0.18993895 0.55422759 0.35213195]\n",
      " [0.1818924  0.78560176 0.96548322]]\n",
      "[3 2 8 9 3]\n",
      "[[7 0 9]\n",
      " [7 9 8]\n",
      " [4 3 3]]\n",
      "[95 11 81 70 63 87 75  9 77 40]\n",
      "[ 0.  2.  4.  6.  8. 10.]\n",
      "[ 0.   0.5  1.   1.5  2.   2.5  3.   3.5  4.   4.5  5.   5.5  6.   6.5\n",
      "  7.   7.5  8.   8.5  9.   9.5 10. ]\n"
     ]
    }
   ],
   "source": [
    "# Random numbers\n",
    "rnd1 = np.random.rand(3, 3)\n",
    "# Using random integers between limits 0 and 10\n",
    "rnd2 = np.random.randint(0,10, 5)\n",
    "# 2D array with random integers\n",
    "rnd3 = np.random.randint(0,10,(3,3))\n",
    "print(rnd1)\n",
    "print(rnd2)\n",
    "print(rnd3)\n",
    "\n",
    "# Generate same random number multiple times\n",
    "np.random.seed(101)\n",
    "rnd4 = np.random.randint(0,100,10)\n",
    "print(rnd4)\n",
    "\n",
    "# Linearly spaced array\n",
    "# 6 linearly spaced elements between 0 and 10\n",
    "lnr1 = np.linspace(0,10,6)\n",
    "# 21 linearly spaced elements between 0 and 10\n",
    "lnr2 = np.linspace(0,10,21)\n",
    "print(lnr1)\n",
    "print(lnr2)"
   ]
  },
  {
   "cell_type": "code",
   "execution_count": 9,
   "metadata": {},
   "outputs": [
    {
     "name": "stdout",
     "output_type": "stream",
     "text": [
      "[0, 1, 2, 3, 4]\n",
      "[0 1 2 3 4]\n"
     ]
    }
   ],
   "source": [
    "# List vs Array\n",
    "my_list = [0,1,2,3,4]\n",
    "arr = np.array(my_list)\n",
    "print(my_list)\n",
    "print(arr)"
   ]
  },
  {
   "cell_type": "code",
   "execution_count": 11,
   "metadata": {},
   "outputs": [
    {
     "name": "stdout",
     "output_type": "stream",
     "text": [
      "[0 1 2 3 4 5 6 7 8 9]\n",
      "[0 2 4 6 8]\n"
     ]
    }
   ],
   "source": [
    "# Arrange\n",
    "# arange integers, takes in start,stop, and step size\n",
    "arr1 = np.arange(0,10)\n",
    "brr2 = np.arange(0,10,2)\n",
    "print(arr1)\n",
    "print(brr2)"
   ]
  },
  {
   "cell_type": "code",
   "execution_count": 20,
   "metadata": {},
   "outputs": [
    {
     "name": "stdout",
     "output_type": "stream",
     "text": [
      "Max = 29, Min = 2, Mean = 12.9\n",
      "Max value is at 9 and Min value is at 0\n"
     ]
    }
   ],
   "source": [
    "# Max, min, mean and index\n",
    "a = np.array([2, 3, 5, 7, 11, 13, 17, 19, 23, 29])\n",
    "print(f\"Max = {a.max()}, Min = {a.min()}, Mean = {a.mean()}\")\n",
    "# To get the index location of max and mean\n",
    "print(f\"Max value is at {a.argmax()} and Min value is at {a.argmin()}\")"
   ]
  },
  {
   "cell_type": "code",
   "execution_count": null,
   "metadata": {},
   "outputs": [],
   "source": []
  }
 ],
 "metadata": {
  "kernelspec": {
   "display_name": "Python 3",
   "language": "python",
   "name": "python3"
  },
  "language_info": {
   "codemirror_mode": {
    "name": "ipython",
    "version": 3
   },
   "file_extension": ".py",
   "mimetype": "text/x-python",
   "name": "python",
   "nbconvert_exporter": "python",
   "pygments_lexer": "ipython3",
   "version": "3.7.3"
  }
 },
 "nbformat": 4,
 "nbformat_minor": 2
}
